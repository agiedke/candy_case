{
 "cells": [
  {
   "cell_type": "markdown",
   "metadata": {},
   "source": [
    "# Modellierung & Dashboard-Vorbereitung"
   ]
  },
  {
   "cell_type": "code",
   "execution_count": null,
   "metadata": {},
   "outputs": [],
   "source": [
    "import pandas as pd\n",
    "import numpy as np\n",
    "\n",
    "from sklearn.tree import plot_tree\n",
    "from sklearn.preprocessing import StandardScaler\n",
    "from sklearn.linear_model import LassoCV\n",
    "from sklearn.model_selection import RandomizedSearchCV, cross_val_predict, cross_val_score, KFold\n",
    "from sklearn.metrics import mean_squared_error, make_scorer\n",
    "from sklearn.model_selection import cross_validate\n",
    "from sklearn.tree import DecisionTreeRegressor\n",
    "from sklearn.cluster import KMeans\n",
    "from sklearn.metrics import silhouette_score\n",
    "\n",
    "import statsmodels.api as sm\n",
    "\n",
    "import matplotlib.pyplot as plt\n",
    "import seaborn as sns\n",
    "\n",
    "import shap\n",
    "\n",
    "import xgboost as xgb"
   ]
  },
  {
   "cell_type": "code",
   "execution_count": null,
   "metadata": {},
   "outputs": [],
   "source": [
    "df = pd.read_csv(\"../candy-data.csv\")"
   ]
  },
  {
   "cell_type": "code",
   "execution_count": null,
   "metadata": {},
   "outputs": [],
   "source": [
    "X = df.drop(columns=['competitorname', 'winpercent'])\n",
    "y = df['winpercent']"
   ]
  },
  {
   "cell_type": "markdown",
   "metadata": {},
   "source": [
    "### Linear Regression"
   ]
  },
  {
   "cell_type": "code",
   "execution_count": null,
   "metadata": {},
   "outputs": [],
   "source": [
    "X_ols = X.copy()\n",
    "\n",
    "X_ols = sm.add_constant(X_ols)\n",
    "\n",
    "ols_model = sm.OLS(y, X_ols).fit()\n",
    "\n",
    "print(ols_model.summary())"
   ]
  },
  {
   "cell_type": "code",
   "execution_count": null,
   "metadata": {},
   "outputs": [],
   "source": [
    "fitted_vals = ols_model.fittedvalues\n",
    "residuals = ols_model.resid\n",
    "\n",
    "plt.figure(figsize=(8, 5))\n",
    "plt.scatter(fitted_vals, residuals, alpha=0.7)\n",
    "plt.axhline(0, color='red', linestyle='--')\n",
    "plt.xlabel(\"Fitted Values\")\n",
    "plt.ylabel(\"Residuals\")\n",
    "plt.title(\"Residual Plot\")\n",
    "plt.tight_layout()\n",
    "plt.show()"
   ]
  },
  {
   "cell_type": "code",
   "execution_count": null,
   "metadata": {},
   "outputs": [],
   "source": [
    "# Breusch-Pagan-Test to check Heteroscedasticity\n",
    "from statsmodels.stats.diagnostic import het_breuschpagan\n",
    "\n",
    "bp_test = het_breuschpagan(residuals, X_ols)\n",
    "\n",
    "labels = ['LM Statistic', 'LM p-value', 'F-statistic', 'F p-value']\n",
    "for label, value in zip(labels, bp_test):\n",
    "    print(f\"{label}: {value:.4f}\")"
   ]
  },
  {
   "cell_type": "markdown",
   "metadata": {},
   "source": [
    "### Decision Tree \n",
    "No tuning, for demonstration purposes only."
   ]
  },
  {
   "cell_type": "code",
   "execution_count": null,
   "metadata": {},
   "outputs": [],
   "source": [
    "tree_model = DecisionTreeRegressor(max_depth=3, random_state=42)\n",
    "\n",
    "rmse_scorer = make_scorer(mean_squared_error, greater_is_better=False)\n",
    "\n",
    "cv_results = cross_validate(\n",
    "    tree_model,\n",
    "    X,\n",
    "    y,\n",
    "    cv=5,\n",
    "    scoring={'r2': 'r2', 'rmse': rmse_scorer},\n",
    "    return_train_score=False\n",
    ")\n",
    "\n",
    "print(\"R² scores (5-fold):\", cv_results['test_r2'])\n",
    "print(\"Average R²:\", np.mean(cv_results['test_r2']))\n",
    "print(\"RMSE scores (5-fold):\", -cv_results['test_rmse'])\n",
    "print(\"Average RMSE:\", -np.mean(cv_results['test_rmse']))\n",
    "\n",
    "tree_model.fit(X, y)\n",
    "plt.figure(figsize=(15, 6))\n",
    "plot_tree(tree_model, feature_names=X.columns, filled=True, rounded=True)\n",
    "plt.title(\"Decision Tree (depth 3, full sample)\")\n",
    "plt.show()"
   ]
  },
  {
   "cell_type": "markdown",
   "metadata": {},
   "source": [
    "### XGBOOST"
   ]
  },
  {
   "cell_type": "code",
   "execution_count": null,
   "metadata": {},
   "outputs": [],
   "source": [
    "xgb_model = xgb.XGBRegressor(\n",
    "    objective='reg:squarederror',\n",
    "    random_state=42,\n",
    "    verbosity=0\n",
    ")\n",
    "\n",
    "param_dist = {\n",
    "    'n_estimators': [50, 100, 200],\n",
    "    'max_depth': [2, 3, 4, 5],\n",
    "    'learning_rate': [0.01, 0.05, 0.1, 0.2],\n",
    "    'subsample': [0.6, 0.8, 1.0],\n",
    "    'colsample_bytree': [0.6, 0.8, 1.0],\n",
    "    'reg_alpha': [0, 0.1, 1],\n",
    "    'reg_lambda': [0.5, 1, 2]\n",
    "}\n",
    "\n",
    "random_search = RandomizedSearchCV(\n",
    "    estimator=xgb_model,\n",
    "    param_distributions=param_dist,\n",
    "    scoring='neg_root_mean_squared_error',\n",
    "    n_iter=25,\n",
    "    cv=5,\n",
    "    random_state=42,\n",
    "    n_jobs=-1\n",
    ")\n",
    "\n",
    "random_search.fit(X, y)\n",
    "best_model = random_search.best_estimator_\n",
    "print(\"Best hyperparameters:\", random_search.best_params_)\n",
    "\n",
    "kf = KFold(n_splits=5, shuffle=True, random_state=42)\n",
    "\n",
    "r2_scores = cross_val_score(best_model, X, y, cv=kf, scoring='r2')\n",
    "neg_mse_scores = cross_val_score(best_model, X, y, cv=kf, scoring=make_scorer(mean_squared_error))\n",
    "rmse_scores = np.sqrt(neg_mse_scores)\n",
    "\n",
    "print(\"\\nCross-validated R² scores:\", np.round(r2_scores, 3))\n",
    "print(\"Mean R²: {:.3f}\".format(np.mean(r2_scores)))\n",
    "print(\"Cross-validated RMSE scores:\", np.round(rmse_scores, 3))\n",
    "print(\"Mean RMSE: {:.3f}\".format(np.mean(rmse_scores)))\n",
    "\n",
    "y_pred = cross_val_predict(best_model, X, y, cv=kf)\n",
    "\n",
    "plt.figure(figsize=(8, 6))\n",
    "sns.scatterplot(x=y, y=y_pred)\n",
    "plt.plot([y.min(), y.max()], [y.min(), y.max()], 'k--', lw=2)\n",
    "plt.xlabel(\"True winpercent\")\n",
    "plt.ylabel(\"Predicted winpercent\")\n",
    "plt.title(\"Predicted vs Actual (XGBoost, CV)\")\n",
    "plt.tight_layout()\n",
    "plt.show()\n",
    "\n",
    "best_model.fit(X, y)\n",
    "\n",
    "importances = best_model.feature_importances_\n",
    "importances_series = pd.Series(importances, index=X.columns).sort_values(ascending=True)\n",
    "\n",
    "plt.figure(figsize=(8, 6))\n",
    "importances_series.plot(kind='barh')\n",
    "plt.title(\"Feature Importance (XGBoost)\")\n",
    "plt.xlabel(\"Importance\")\n",
    "plt.tight_layout()\n",
    "plt.show()\n"
   ]
  },
  {
   "cell_type": "code",
   "execution_count": null,
   "metadata": {},
   "outputs": [],
   "source": [
    "explainer_xgb = shap.Explainer(best_model)\n",
    "shap_values_xgb = explainer_xgb(X)\n",
    "\n",
    "shap.summary_plot(shap_values_xgb, X)\n",
    "\n",
    "explainer_tree = shap.TreeExplainer(best_model)\n",
    "shap_interactions = explainer_tree.shap_interaction_values(X)\n",
    "shap.summary_plot(shap_interactions, X)"
   ]
  },
  {
   "cell_type": "markdown",
   "metadata": {},
   "source": [
    "### Cluster Analysis"
   ]
  },
  {
   "cell_type": "code",
   "execution_count": null,
   "metadata": {},
   "outputs": [],
   "source": [
    "features = df.drop(columns=['competitorname', 'winpercent', 'sugarpercent', 'pricepercent'])\n",
    "\n",
    "scaler = StandardScaler()\n",
    "X_scaled = scaler.fit_transform(features)\n",
    "\n",
    "sil_scores = []\n",
    "cluster_range = range(2, 6)\n",
    "\n",
    "for k in cluster_range:\n",
    "    kmeans = KMeans(n_clusters=k, random_state=42)\n",
    "    labels = kmeans.fit_predict(X_scaled)\n",
    "    score = silhouette_score(X_scaled, labels)\n",
    "    sil_scores.append(score)\n",
    "    print(f\"Number of clusters: {k}, Silhouette Score: {score:.4f}\")\n",
    "\n",
    "plt.figure(figsize=(8, 4))\n",
    "plt.plot(cluster_range, sil_scores, marker='o')\n",
    "plt.title('Silhouette Score vs Number of Clusters')\n",
    "plt.xlabel('Number of Clusters (k)')\n",
    "plt.ylabel('Silhouette Score')\n",
    "plt.xticks(cluster_range)\n",
    "plt.grid(True)\n",
    "plt.show()\n",
    "\n",
    "best_k = cluster_range[np.argmax(sil_scores)]\n",
    "print(f\"\\nOptimal number of clusters: {best_k}\")\n",
    "\n",
    "kmeans_best = KMeans(n_clusters=best_k, random_state=42)\n",
    "df['cluster'] = kmeans_best.fit_predict(X_scaled)\n",
    "\n",
    "cluster_summary = df.groupby('cluster')['winpercent'].mean().sort_index()\n",
    "\n",
    "plt.figure(figsize=(8, 5))\n",
    "cluster_summary.plot(kind='bar', color='skyblue')\n",
    "plt.title('Average Winpercent per Cluster')\n",
    "plt.xlabel('Cluster')\n",
    "plt.ylabel('Average Winpercent')\n",
    "plt.xticks(rotation=0)\n",
    "plt.tight_layout()\n",
    "plt.show()\n",
    "\n",
    "cluster_features = df.groupby('cluster')[features.columns].mean().round(3)\n",
    "\n",
    "cluster_sizes = df['cluster'].value_counts().sort_index()\n",
    "\n",
    "cluster_summary_df = cluster_features.copy()\n",
    "cluster_summary_df['size'] = cluster_sizes\n",
    "\n",
    "print(\"\\nCluster characteristics with sizes:\")\n",
    "cluster_summary_df['avg_winpercent'] = cluster_summary\n",
    "cluster_summary_df\n"
   ]
  },
  {
   "cell_type": "markdown",
   "metadata": {},
   "source": [
    "### OLS with Interaction Terms\n",
    "- Creating all possible interaction terms with chocolate\n",
    "- using lasso to select only relevant features\n",
    "- running ols on model with relevant features (including interactions)"
   ]
  },
  {
   "cell_type": "code",
   "execution_count": null,
   "metadata": {},
   "outputs": [],
   "source": [
    "X = df.drop(columns=['competitorname', 'winpercent', 'cluster', 'sugarpercent', 'pricepercent'])\n",
    "y = df['winpercent']\n",
    "\n",
    "chocolate = X[['chocolate']]\n",
    "other_features = X.drop(columns='chocolate')\n",
    "\n",
    "interactions = chocolate.values * other_features.values\n",
    "interaction_df = pd.DataFrame(interactions, columns=[f'{col}_x_chocolate' for col in other_features.columns])\n",
    "\n",
    "X_full = pd.concat([X, interaction_df], axis=1)\n",
    "\n",
    "scaler = StandardScaler()\n",
    "X_scaled = scaler.fit_transform(X_full)\n",
    "\n",
    "lasso = LassoCV(cv=5, max_iter=10000, random_state=42).fit(X_scaled, y)\n",
    "\n",
    "selected_mask = lasso.coef_ != 0\n",
    "selected_features = X_full.columns[selected_mask]\n",
    "\n",
    "print(\"All features:\")\n",
    "print(X_full.columns)\n",
    "print(\"Selected features by Lasso:\")\n",
    "print(selected_features)\n",
    "\n",
    "X_selected = sm.add_constant(X_full[selected_features])\n",
    "ols_model = sm.OLS(y, X_selected).fit()\n",
    "\n",
    "print(\"\\nFinal OLS model summary:\")\n",
    "print(ols_model.summary())\n"
   ]
  },
  {
   "cell_type": "markdown",
   "metadata": {},
   "source": [
    "### Additional Analysis: Effects on Price and Sugar\n"
   ]
  },
  {
   "cell_type": "code",
   "execution_count": null,
   "metadata": {},
   "outputs": [],
   "source": [
    "targets = [\"sugarpercent\", \"pricepercent\"]\n",
    "for target in targets:\n",
    "    print(f\"Target: {target}\\n\")\n",
    "    X = df.drop(columns=['competitorname', 'winpercent']+targets)\n",
    "    y = df[target]\n",
    "\n",
    "    chocolate = X[['chocolate']]\n",
    "    other_features = X.drop(columns='chocolate')\n",
    "\n",
    "    interactions = chocolate.values * other_features.values\n",
    "    interaction_df = pd.DataFrame(interactions, columns=[f'{col}_x_chocolate' for col in other_features.columns])\n",
    "\n",
    "    X_full = pd.concat([X, interaction_df], axis=1)\n",
    "\n",
    "    scaler = StandardScaler()\n",
    "    X_scaled = scaler.fit_transform(X_full)\n",
    "\n",
    "    lasso = LassoCV(cv=5, max_iter=10000, random_state=42).fit(X_scaled, y)\n",
    "\n",
    "    selected_mask = lasso.coef_ != 0\n",
    "    selected_features = X_full.columns[selected_mask]\n",
    "\n",
    "    print(\"All features:\")\n",
    "    print(X_full.columns)\n",
    "    print(\"Selected features by Lasso:\")\n",
    "    print(selected_features)\n",
    "\n",
    "    X_selected = sm.add_constant(X_full[selected_features])\n",
    "    ols_model = sm.OLS(y, X_selected).fit()\n",
    "\n",
    "    print(\"\\nFinal OLS model summary:\")\n",
    "    print(ols_model.summary())\n",
    "    print(\"\\n##### ##### #####\\n\")\n"
   ]
  },
  {
   "cell_type": "code",
   "execution_count": null,
   "metadata": {},
   "outputs": [],
   "source": []
  }
 ],
 "metadata": {
  "kernelspec": {
   "display_name": ".venv_candycase_analysis",
   "language": "python",
   "name": "python3"
  },
  "language_info": {
   "codemirror_mode": {
    "name": "ipython",
    "version": 3
   },
   "file_extension": ".py",
   "mimetype": "text/x-python",
   "name": "python",
   "nbconvert_exporter": "python",
   "pygments_lexer": "ipython3",
   "version": "3.11.5"
  }
 },
 "nbformat": 4,
 "nbformat_minor": 2
}
